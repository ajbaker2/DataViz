{
 "cells": [
  {
   "cell_type": "markdown",
   "metadata": {},
   "source": [
    "# IDDA "
   ]
  },
  {
   "cell_type": "code",
   "execution_count": 220,
   "metadata": {},
   "outputs": [],
   "source": [
    "# best to follow convention, \"notebook\" style imports are allowed/preferred\n",
    "import marimo as mo\n",
    "import altair as alt\n",
    "import polars as pl\n",
    "import pandas as pd\n",
    "from pathlib import Path\n",
    "import geopandas as gpd\n",
    "from vega_datasets import data"
   ]
  },
  {
   "cell_type": "code",
   "execution_count": null,
   "metadata": {},
   "outputs": [],
   "source": [
    "pctl = pd.read_csv('Data/IDDA/pctl_of_inc_all_data.csv')\n",
    "pctl.columns"
   ]
  },
  {
   "cell_type": "code",
   "execution_count": null,
   "metadata": {},
   "outputs": [],
   "source": [
    "idv = pctl[pctl['level'] == 'pik']\n",
    "hh = pctl[pctl['level'] == 'mafid']\n",
    "\n",
    "idv_2019_state_all = idv.query(\"year == 2019 and geo_var == 'state' and group_var == 'xall'\")\n",
    "\n",
    "idv_2019_state_all['IQR'] = idv_2019_state_all['pctl75'] - idv_2019_state_all['pctl25']\n",
    "\n",
    "idv_2019_state_all['90/10'] = idv_2019_state_all['pctl90'] / idv_2019_state_all['pctl10']\n",
    "\n",
    "idv_2019_state_all['90/50'] = idv_2019_state_all['pctl90'] / idv_2019_state_all['pctl50']\n",
    "\n",
    "idv_2019_state_all['50/10'] = idv_2019_state_all['pctl50'] / idv_2019_state_all['pctl10']\n",
    "\n",
    "idv_2019_state_all.head()"
   ]
  },
  {
   "cell_type": "code",
   "execution_count": null,
   "metadata": {},
   "outputs": [],
   "source": [
    "geo_us_states = gpd.read_file(data.us_10m.url, driver='TopoJSON', layer='states')"
   ]
  },
  {
   "cell_type": "markdown",
   "metadata": {},
   "source": [
    "## Percentile IDV Income by State in Year"
   ]
  },
  {
   "cell_type": "code",
   "execution_count": null,
   "metadata": {},
   "outputs": [],
   "source": [
    "def graph_income_pctl_by_state(pctl_val):\n",
    "    return alt.Chart(geo_us_states).mark_geoshape().transform_lookup(\n",
    "    lookup='id',\n",
    "    from_=alt.LookupData(data=idv_2019_state_all, key='geo_var_val', fields=[pctl_val])\n",
    ").encode(\n",
    "    alt.Color(f'{pctl_val}:Q', title=pctl_val, scale = alt.Scale(scheme= 'inferno'))\n",
    ").project(\n",
    "    type='albersUsa'\n",
    ").properties(\n",
    "    title = f'{pctl_val} Individual Income by State in 2019'\n",
    ")\n",
    "\n",
    "graph_income_pctl_by_state('90/10')"
   ]
  },
  {
   "cell_type": "code",
   "execution_count": null,
   "metadata": {},
   "outputs": [],
   "source": [
    "idv_state_all = idv.query(\"geo_var == 'state' and group_var == 'xall'\")\n",
    "idv_state_all.head()\n",
    "idv_state_all.columns"
   ]
  },
  {
   "cell_type": "code",
   "execution_count": null,
   "metadata": {},
   "outputs": [],
   "source": [
    "alt.Chart(idv_state_all).transform_fold(\n",
    "    ['pctl10', 'pctl25', 'pctl50', 'pctl75', 'pctl90', 'pctl95'],  # List of percentiles\n",
    "    as_=['percentile', 'value']\n",
    ").mark_rect().encode(\n",
    "    x='year:O',\n",
    "    y='percentile:O',\n",
    "    color= alt.Color('value:Q', scale = alt.Scale(scheme = 'inferno'))\n",
    ").facet('geo_abb:N', columns= 3)"
   ]
  },
  {
   "cell_type": "code",
   "execution_count": null,
   "metadata": {},
   "outputs": [],
   "source": [
    "alt.Chart(idv_state_all).transform_fold(\n",
    "    ['pctl10', 'pctl25', 'pctl50', 'pctl75', 'pctl90', 'pctl95'],\n",
    "    as_=['percentile', 'value']\n",
    ").mark_line().encode(\n",
    "    x=alt.X('year:O', axis=alt.Axis(labels=False, title=\"2005 - 2019\")),\n",
    "    y=alt.Y('value:Q'),\n",
    "    color=alt.Color('percentile:N', scale=alt.Scale(scheme='inferno'))\n",
    ").properties(\n",
    "    width=40,\n",
    "    height=80\n",
    ").facet('geo_abb:N', columns=17)"
   ]
  },
  {
   "cell_type": "code",
   "execution_count": null,
   "metadata": {},
   "outputs": [],
   "source": [
    "idv_us = idv.query(\"geo_var == 'usst' and group_var == 'xall' and inc_var == 'TC' and samp == 'all_w2_pik'\")\n",
    "idv_us['IQR'] = idv_us['pctl75'] - idv_us['pctl25']\n",
    "#do the same now for 90/10, 90/50, 50/10\n",
    "\n",
    "idv_us.head(20)"
   ]
  },
  {
   "cell_type": "code",
   "execution_count": null,
   "metadata": {},
   "outputs": [],
   "source": [
    "prop = pd.read_csv('Data/IDDA/prop_share_all_data.csv')\n",
    "\n",
    "prop.head(20)"
   ]
  },
  {
   "cell_type": "code",
   "execution_count": null,
   "metadata": {},
   "outputs": [],
   "source": [
    "prop_all = prop.query(\"group_var == 'xrea' and percentile == 98.0 and inc_var == 'TC'\")\n",
    "\n",
    "\n",
    "prop_all.head(20)"
   ]
  },
  {
   "cell_type": "code",
   "execution_count": null,
   "metadata": {},
   "outputs": [],
   "source": [
    "alt.Chart(prop_all).mark_bar().encode(\n",
    "    x=alt.X('sum(proportion):Q', stack = 'normalize', axis=alt.Axis(labels=False, title=None)),\n",
    "    y=alt.Y('geo_abb:N', title=\"State\"),\n",
    "    color=alt.Color('group_var_val:N', title=\"Ethnic Group\", scale=alt.Scale(scheme='dark2')),\n",
    "    tooltip=['geo_abb:N', 'group_var_val:N', 'proportion:Q']\n",
    ").properties(\n",
    "    title=\"Proportion of 98th Percentile Income Earners by State and Ethnic Group\",\n",
    "    width=55,\n",
    "    height = 500\n",
    ").facet('year:O', columns = 15)\n"
   ]
  },
  {
   "cell_type": "code",
   "execution_count": null,
   "metadata": {},
   "outputs": [],
   "source": [
    "prop_all_2019 = prop_all.query(\"year == 2019\")\n",
    "prop_all_2019.head()"
   ]
  },
  {
   "cell_type": "code",
   "execution_count": null,
   "metadata": {},
   "outputs": [],
   "source": [
    "alt.Chart(prop_all_2019).mark_bar().encode(\n",
    "    x=alt.X('sum(proportion):Q', stack = 'normalize'),\n",
    "    y=alt.Y('geo_abb:N', title=\"State\"),\n",
    "    color=alt.Color('group_var_val:N', title=\"Ethnic Group\", scale=alt.Scale(scheme='dark2')),\n",
    "    tooltip=['geo_abb:N', 'group_var_val:N', 'proportion:Q']\n",
    ").properties(\n",
    "    title=\"Proportion of 98th Percentile Income Earners by State and Ethnic Group in 2019\",\n",
    "    width = 1000,\n",
    "    height = 500\n",
    "    )"
   ]
  },
  {
   "cell_type": "code",
   "execution_count": null,
   "metadata": {},
   "outputs": [],
   "source": [
    "inc = pd.read_csv('Data/IDDA/inc_share_all_data.csv')\n",
    "inc.head()"
   ]
  },
  {
   "cell_type": "code",
   "execution_count": null,
   "metadata": {},
   "outputs": [],
   "source": []
  }
 ],
 "metadata": {
  "kernelspec": {
   "display_name": "proj",
   "language": "python",
   "name": "python3"
  },
  "language_info": {
   "codemirror_mode": {
    "name": "ipython",
    "version": 3
   },
   "file_extension": ".py",
   "mimetype": "text/x-python",
   "name": "python",
   "nbconvert_exporter": "python",
   "pygments_lexer": "ipython3",
   "version": "3.12.7"
  }
 },
 "nbformat": 4,
 "nbformat_minor": 2
}
