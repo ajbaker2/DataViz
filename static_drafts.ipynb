{
 "cells": [
  {
   "cell_type": "markdown",
   "metadata": {},
   "source": [
    "# Exploring Economic Wellbeing and Income Inequality in the US Since 2005"
   ]
  },
  {
   "cell_type": "code",
   "execution_count": 80,
   "metadata": {},
   "outputs": [],
   "source": [
    "import marimo as mo\n",
    "import altair as alt\n",
    "import polars as pl\n",
    "import pandas as pd\n",
    "from pathlib import Path\n",
    "import geopandas as gpd\n",
    "from vega_datasets import data"
   ]
  },
  {
   "cell_type": "code",
   "execution_count": 62,
   "metadata": {},
   "outputs": [],
   "source": [
    "pctl = pd.read_csv('Data/IDDA/pctl_of_inc_all_data.csv')\n",
    "\n",
    "# calculating some inequality measures\n",
    "pctl['IQR'] = pctl['pctl75'] - pctl['pctl25']\n",
    "pctl['90/10'] = pctl['pctl90'] / pctl['pctl10']\n",
    "pctl['50/10'] = pctl['pctl50'] / pctl['pctl10']\n",
    "pctl['90/50'] = pctl['pctl90'] / pctl['pctl50']\n",
    "\n",
    "#just indv income data\n",
    "idv = pctl[pctl['level'] == 'pik']\n",
    "\n",
    "# getting all US data from 2005 - 2019\n",
    "idv_us = idv.query(\"geo_var == 'usst' and group_var == 'xall' and inc_var == 'TC' and samp == 'all_w2_pik'\")"
   ]
  },
  {
   "cell_type": "markdown",
   "metadata": {},
   "source": [
    "median income"
   ]
  },
  {
   "cell_type": "code",
   "execution_count": null,
   "metadata": {},
   "outputs": [],
   "source": [
    "alt.Chart(idv_us).transform_fold(['pctl50'],\n",
    "    as_=['metric', 'value']\n",
    ").mark_line().encode(\n",
    "    x = alt.X('year:O'),\n",
    "    y = alt.Y('value:Q'),\n",
    "    color = alt.Color('metric:N')\n",
    ")"
   ]
  },
  {
   "cell_type": "markdown",
   "metadata": {},
   "source": [
    "What we see is the median indivual income in the US is rising over the past 14 years. this seems to be good, but what if we compare this to other income percentiles in the US? How does the average American's improvements compare to the rest of income earners?"
   ]
  },
  {
   "cell_type": "code",
   "execution_count": null,
   "metadata": {},
   "outputs": [],
   "source": [
    "alt.Chart(idv_us).transform_fold(['pctl10', 'pctl25', 'pctl50', 'pctl75', 'pctl90', 'pctl95'],\n",
    "    as_=['metric', 'value']\n",
    ").mark_line().encode(\n",
    "    x = alt.X('year:O'),\n",
    "    y = alt.Y('value:Q'),\n",
    "    color = alt.Color('metric:O')\n",
    ")"
   ]
  },
  {
   "cell_type": "markdown",
   "metadata": {},
   "source": [
    "The bottom 10% and the bottom 25% of income earners do not seem to have seen significant improvements in their incomes over the 14 year period. On the other hand, the top 25% of earners see gains slightly better than the median earners, but the top 10% and 5% see significantly higher increases in their incomes. "
   ]
  },
  {
   "cell_type": "markdown",
   "metadata": {},
   "source": [
    "Although the changes in income seem to be most significant for high earners, do these changes hold when analyzing the percent changes in income over the 14 years?"
   ]
  },
  {
   "cell_type": "code",
   "execution_count": null,
   "metadata": {},
   "outputs": [],
   "source": [
    "idv_us_year_filt = idv_us.query(\"year == 2005 or year == 2019\")\n",
    "cols_to_piv = ['pctl10', 'pctl25', 'pctl50', 'pctl75', 'pctl90', 'pctl95']\n",
    "idv_us_pivot = idv_us_year_filt.pivot(index = 'year', columns= 'geo_abb', values= cols_to_piv)\n",
    "\n",
    "idv_us_change = (idv_us_pivot.loc[2019] - idv_us_pivot.loc[2005]) / idv_us_pivot.loc[2005] * 100\n",
    "\n",
    "us_change = idv_us_change.reset_index()\n",
    "\n",
    "final_us_change = us_change.rename(columns={\n",
    "    'level_0': 'Percentile', 0: 'Percentage_Change'\n",
    "})\n",
    "\n",
    "pct_chg_points = alt.Chart(final_us_change).mark_bar().encode(\n",
    "    x = alt.X('Percentile:O'),\n",
    "    y = alt.Y('Percentage_Change:Q'),\n",
    "    color = alt.Color('Percentile:O', legend = None)\n",
    ").properties(\n",
    "    title = \"jo\",\n",
    "    width = 1000\n",
    ")\n",
    "\n",
    "pct_chg_points"
   ]
  },
  {
   "cell_type": "markdown",
   "metadata": {},
   "source": [
    "## ADD TREND LINE"
   ]
  },
  {
   "cell_type": "markdown",
   "metadata": {},
   "source": [
    "It appears that there is an inverse relationship between the percentile level and the percetnage change in income. This is potentially good. The bottom 10% seeing greater differences relative to their original position is great, but these differences are not very significant as we move from the bottom to the top 10."
   ]
  },
  {
   "cell_type": "markdown",
   "metadata": {},
   "source": [
    "Bringing in more data, we can look at how these trends compare when we account for inflation (adjusting incomes to 2019 price levels for each year). Do the increases seem to outpace the ever-increasing price levels?"
   ]
  },
  {
   "cell_type": "code",
   "execution_count": null,
   "metadata": {},
   "outputs": [],
   "source": [
    "alt.Chart(idv_us).transform_fold(['pctl10', 'pctl10_adj', 'pctl25', 'pctl25_adj', 'pctl50', 'pctl50_adj', 'pctl75', 'pctl75_adj', 'pctl90', 'pctl90_adj', 'pctl95', 'pctl95_adj'],  # List of inequality metrics\n",
    "    as_=['metric', 'value'] \n",
    ").mark_line().encode(\n",
    "    x = alt.X('year:O'),\n",
    "    y = alt.Y('value:Q'),\n",
    "    color = alt.Color('metric:O')\n",
    ")"
   ]
  },
  {
   "cell_type": "markdown",
   "metadata": {},
   "source": [
    "For just about every percentile, any steepness suggesting increases in incomes have significantly diminished. However, what we do see is pretty significant increses still for the top percentiles of earners. "
   ]
  },
  {
   "cell_type": "markdown",
   "metadata": {},
   "source": [
    "What does this look like in terms of percentage changes?"
   ]
  },
  {
   "cell_type": "code",
   "execution_count": null,
   "metadata": {},
   "outputs": [],
   "source": [
    "idv_us_year_filt_adj = idv_us.query(\"year == 2005 or year == 2019\")\n",
    "cols_to_piv_adj = ['pctl10_adj', 'pctl25_adj', 'pctl50_adj', 'pctl75_adj', 'pctl90_adj', 'pctl95_adj']\n",
    "idv_us_pivot_adj = idv_us_year_filt_adj.pivot(index = 'year', columns= 'geo_abb', values= cols_to_piv_adj)\n",
    "\n",
    "idv_us_change_adj = (idv_us_pivot_adj.loc[2019] - idv_us_pivot_adj.loc[2005]) / idv_us_pivot_adj.loc[2005] * 100\n",
    "\n",
    "us_change_adj = idv_us_change_adj.reset_index()\n",
    "\n",
    "final_us_change_adj = us_change_adj.rename(columns={\n",
    "    'level_0': 'Percentile', 0: 'Percentage_Change'\n",
    "})\n",
    "\n",
    "pct_chg_points_adj = alt.Chart(final_us_change_adj).mark_bar().encode(\n",
    "    x = alt.X('Percentile:O'),\n",
    "    y = alt.Y('Percentage_Change:Q'),\n",
    "    color = alt.Color('Percentile:O', legend = None)\n",
    ").properties(\n",
    "    title = \"jo\",\n",
    "    width = 1000\n",
    ")\n",
    "\n",
    "pct_chg_points_adj\n",
    "pct_chg_points + pct_chg_points_adj"
   ]
  },
  {
   "cell_type": "markdown",
   "metadata": {},
   "source": [
    "WOuld love if I could get lines to work on these / get the colors better at least"
   ]
  },
  {
   "cell_type": "markdown",
   "metadata": {},
   "source": [
    "The discrepancies between the top and the bottom are apparant. Income is rapidly expanding at the top, while those at the bottom are not seeing very main gains at all in income"
   ]
  },
  {
   "cell_type": "markdown",
   "metadata": {},
   "source": [
    "We have seen that, in the United States as a whole, incomes are rising much more rapidly for high income earners than they are for low income earners. But inequality can be investigated in other ways than between percentiles. How do median incomes differ state by state?"
   ]
  },
  {
   "cell_type": "code",
   "execution_count": null,
   "metadata": {},
   "outputs": [],
   "source": [
    "geo_us_states = gpd.read_file(data.us_10m.url, driver='TopoJSON', layer='states')\n",
    "idv_state_all = idv.query(\"geo_var == 'state' and group_var == 'xall'\")"
   ]
  },
  {
   "cell_type": "code",
   "execution_count": null,
   "metadata": {},
   "outputs": [],
   "source": [
    "idv_2005_state_all = idv_state_all.query(\"year == 2005\")\n",
    "\n",
    "alt.Chart(geo_us_states).mark_geoshape().transform_lookup(\n",
    "    lookup='id',\n",
    "    from_=alt.LookupData(data=idv_2005_state_all, key='geo_var_val', fields=['pctl50'])\n",
    ").encode(\n",
    "    alt.Color('pctl50:Q', title='pctl50', scale = alt.Scale(scheme= 'inferno'))\n",
    ").project(\n",
    "    type='albersUsa'\n",
    ").properties(\n",
    "    title = 'pctl50 Individual Income by State in 2005'\n",
    ")"
   ]
  },
  {
   "cell_type": "markdown",
   "metadata": {},
   "source": [
    "Not sure i want the above graph, might add more confusion"
   ]
  },
  {
   "cell_type": "code",
   "execution_count": null,
   "metadata": {},
   "outputs": [],
   "source": [
    "idv_2019_state_all = idv_state_all.query(\"year == 2019\")\n",
    "\n",
    "alt.Chart(geo_us_states).mark_geoshape().transform_lookup(\n",
    "    lookup='id',\n",
    "    from_=alt.LookupData(data=idv_2019_state_all, key='geo_var_val', fields=['pctl50'])\n",
    ").encode(\n",
    "    alt.Color('pctl50:Q', title='pctl50', scale = alt.Scale(scheme= 'inferno'))\n",
    ").project(\n",
    "    type='albersUsa'\n",
    ").properties(\n",
    "    title = 'pctl50 Individual Income by State in 2019'\n",
    ")"
   ]
  },
  {
   "cell_type": "code",
   "execution_count": null,
   "metadata": {},
   "outputs": [],
   "source": [
    "alt.Chart(idv_state_all).mark_boxplot().encode(\n",
    "    alt.X('pctl50:Q'),\n",
    "    alt.Y('year:O')\n",
    ")"
   ]
  },
  {
   "cell_type": "code",
   "execution_count": null,
   "metadata": {},
   "outputs": [],
   "source": [
    "alt.Chart(geo_us_states).mark_geoshape().transform_lookup(\n",
    "    lookup='id',\n",
    "    from_=alt.LookupData(data=idv_2019_state_all, key='geo_var_val', fields=['pctl10'])\n",
    ").encode(\n",
    "    alt.Color('pctl10:Q', title='pctl10', scale = alt.Scale(scheme= 'inferno'))\n",
    ").project(\n",
    "    type='albersUsa'\n",
    ").properties(\n",
    "    title = 'pctl10 Individual Income by State in 2019'\n",
    ")"
   ]
  },
  {
   "cell_type": "code",
   "execution_count": null,
   "metadata": {},
   "outputs": [],
   "source": [
    "alt.Chart(idv_state_all).mark_boxplot().encode(\n",
    "    alt.X('pctl10:Q'),\n",
    "    alt.Y('year:O')\n",
    ")"
   ]
  },
  {
   "cell_type": "code",
   "execution_count": null,
   "metadata": {},
   "outputs": [],
   "source": [
    "alt.Chart(geo_us_states).mark_geoshape().transform_lookup(\n",
    "    lookup='id',\n",
    "    from_=alt.LookupData(data=idv_2019_state_all, key='geo_var_val', fields=['pctl90'])\n",
    ").encode(\n",
    "    alt.Color('pctl90:Q', title='pctl90', scale = alt.Scale(scheme= 'inferno'))\n",
    ").project(\n",
    "    type='albersUsa'\n",
    ").properties(\n",
    "    title = 'pctl90 Individual Income by State in 2019'\n",
    ")"
   ]
  },
  {
   "cell_type": "code",
   "execution_count": null,
   "metadata": {},
   "outputs": [],
   "source": [
    "alt.Chart(idv_state_all).mark_boxplot().encode(\n",
    "    alt.X('pctl90:Q'),\n",
    "    alt.Y('year:O')\n",
    ")"
   ]
  },
  {
   "cell_type": "markdown",
   "metadata": {},
   "source": [
    "A cross-state comparison shows evidence of income inequality as well. In any given year, there are disparities between states in terms of median income, 10th percentile income, and 90th percentile income. Moreover, this gap between states has expanded as time has gone on."
   ]
  },
  {
   "cell_type": "markdown",
   "metadata": {},
   "source": [
    "Are there disparities within states as well? Probably, but lets look at how severe they are. First, lets look at how these percentiles evolve within each state over the 14 year period:"
   ]
  },
  {
   "cell_type": "markdown",
   "metadata": {},
   "source": [
    "The important question to ask is: in states where incomes at all percentiles are particularly high (NJ, DC, NY, MA, etc), are the people at the bottom still doing alright in the grand scheme of things? It can seem like the low earners in a place like California might still be alright due to the portrayal of the map, "
   ]
  },
  {
   "cell_type": "code",
   "execution_count": null,
   "metadata": {},
   "outputs": [],
   "source": [
    "alt.Chart(idv_state_all).transform_fold(\n",
    "    ['pctl10', 'pctl25', 'pctl50', 'pctl75', 'pctl90', 'pctl95', 'pctl98'],\n",
    "    as_=['percentile', 'value']\n",
    ").mark_rect().encode(\n",
    "    x=alt.X('year:O', axis=alt.Axis(labels=False, title=\"'05 - '19\")),\n",
    "    y='percentile:O',\n",
    "    color= alt.Color('value:Q', scale = alt.Scale(scheme = 'inferno'))\n",
    ").properties(\n",
    "    width = 40,\n",
    "    height = 80\n",
    ").facet('geo_abb:N', columns= 17)"
   ]
  },
  {
   "cell_type": "markdown",
   "metadata": {},
   "source": [
    "Looking at how these percentiles evolve state by state, we can see that some states are growing far past others.  "
   ]
  },
  {
   "cell_type": "markdown",
   "metadata": {},
   "source": [
    "There are various measures of inequality:\n",
    "    1. IQR (75th percentile - 25th percentile)\n",
    "    2. 90/10 (90th Percentile / 10th Percentile)\n",
    "    3. 90/50 (90th Percentile / 50th Percentile)\n",
    "    4. 50/10 (50th Percentile / 10th Percentile)"
   ]
  },
  {
   "cell_type": "markdown",
   "metadata": {},
   "source": [
    "These measures of inequality within each state in 2019:"
   ]
  },
  {
   "cell_type": "code",
   "execution_count": null,
   "metadata": {},
   "outputs": [],
   "source": [
    "alt.Chart(geo_us_states).mark_geoshape().transform_lookup(\n",
    "    lookup='id',\n",
    "    from_=alt.LookupData(data=idv_2019_state_all, key='geo_var_val', fields=['IQR'])\n",
    ").encode(\n",
    "    alt.Color('IQR:Q', title='pctl90', scale = alt.Scale(scheme= 'inferno'))\n",
    ").project(\n",
    "    type='albersUsa'\n",
    ").properties(\n",
    "    title = 'IQR Individual Income by State in 2019'\n",
    ")"
   ]
  },
  {
   "cell_type": "code",
   "execution_count": null,
   "metadata": {},
   "outputs": [],
   "source": [
    "alt.Chart(geo_us_states).mark_geoshape().transform_lookup(\n",
    "    lookup='id',\n",
    "    from_=alt.LookupData(data=idv_2019_state_all, key='geo_var_val', fields=['90/10'])\n",
    ").encode(\n",
    "    alt.Color('90/10:Q', title='pctl90', scale = alt.Scale(scheme= 'inferno'))\n",
    ").project(\n",
    "    type='albersUsa'\n",
    ").properties(\n",
    "    title = '90/10 Individual Income by State in 2019'\n",
    ")"
   ]
  },
  {
   "cell_type": "code",
   "execution_count": null,
   "metadata": {},
   "outputs": [],
   "source": [
    "alt.Chart(geo_us_states).mark_geoshape().transform_lookup(\n",
    "    lookup='id',\n",
    "    from_=alt.LookupData(data=idv_2019_state_all, key='geo_var_val', fields=['50/10'])\n",
    ").encode(\n",
    "    alt.Color('50/10:Q', title='pctl90', scale = alt.Scale(scheme= 'inferno'))\n",
    ").project(\n",
    "    type='albersUsa'\n",
    ").properties(\n",
    "    title = '50/10 Individual Income by State in 2019'\n",
    ")"
   ]
  },
  {
   "cell_type": "code",
   "execution_count": null,
   "metadata": {},
   "outputs": [],
   "source": [
    "alt.Chart(geo_us_states).mark_geoshape().transform_lookup(\n",
    "    lookup='id',\n",
    "    from_=alt.LookupData(data=idv_2019_state_all, key='geo_var_val', fields=['90/50'])\n",
    ").encode(\n",
    "    alt.Color('90/50:Q', title='pctl90', scale = alt.Scale(scheme= 'inferno'))\n",
    ").project(\n",
    "    type='albersUsa'\n",
    ").properties(\n",
    "    title = '90/50 Individual Income by State in 2019'\n",
    ")"
   ]
  },
  {
   "cell_type": "markdown",
   "metadata": {},
   "source": [
    "Who's winning? Are different demographics struggling at the bottom/expanding at the top?"
   ]
  },
  {
   "cell_type": "markdown",
   "metadata": {},
   "source": []
  }
 ],
 "metadata": {
  "kernelspec": {
   "display_name": "proj",
   "language": "python",
   "name": "python3"
  },
  "language_info": {
   "codemirror_mode": {
    "name": "ipython",
    "version": 3
   },
   "file_extension": ".py",
   "mimetype": "text/x-python",
   "name": "python",
   "nbconvert_exporter": "python",
   "pygments_lexer": "ipython3",
   "version": "3.12.7"
  }
 },
 "nbformat": 4,
 "nbformat_minor": 2
}
